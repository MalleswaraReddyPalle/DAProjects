{
 "cells": [
  {
   "cell_type": "markdown",
   "id": "4e9c20dd",
   "metadata": {},
   "source": [
    "#Importing libraries"
   ]
  },
  {
   "cell_type": "code",
   "execution_count": null,
   "id": "7d87d670",
   "metadata": {},
   "outputs": [],
   "source": [
    "import pandas as pd\n",
    "import numpy as np\n",
    "import matplotlib.pyplot as plt\n",
    "import seaborn as sns\n",
    "import warnings\n",
    "warnings.filterwarnings('ignore')"
   ]
  },
  {
   "cell_type": "markdown",
   "id": "93fca969",
   "metadata": {},
   "source": [
    "#Loading data"
   ]
  },
  {
   "cell_type": "code",
   "execution_count": null,
   "id": "0211ece0",
   "metadata": {},
   "outputs": [],
   "source": [
    "df=pd.read_csv('hotel_booking.csv')"
   ]
  },
  {
   "cell_type": "markdown",
   "id": "b30fb38a",
   "metadata": {},
   "source": [
    "#Exploratory Data Analysis"
   ]
  },
  {
   "cell_type": "code",
   "execution_count": null,
   "id": "2d4626bf",
   "metadata": {},
   "outputs": [],
   "source": [
    "df.head()"
   ]
  },
  {
   "cell_type": "code",
   "execution_count": null,
   "id": "7ab5c1ff",
   "metadata": {},
   "outputs": [],
   "source": [
    "df.describe()"
   ]
  },
  {
   "cell_type": "code",
   "execution_count": null,
   "id": "424c3fa9",
   "metadata": {},
   "outputs": [],
   "source": [
    "df.shape"
   ]
  },
  {
   "cell_type": "code",
   "execution_count": null,
   "id": "f00d7b29",
   "metadata": {},
   "outputs": [],
   "source": [
    "#checking all columns info\n",
    "df.info()"
   ]
  },
  {
   "cell_type": "code",
   "execution_count": null,
   "id": "47ad2121",
   "metadata": {},
   "outputs": [],
   "source": [
    "#converting reservation_status_date colum from object type to date type\n",
    "df['reservation_status_date']=pd.to_datetime(df['reservation_status_date'])"
   ]
  },
  {
   "cell_type": "code",
   "execution_count": null,
   "id": "1c91a514",
   "metadata": {},
   "outputs": [],
   "source": [
    "df.describe(include='object')"
   ]
  },
  {
   "cell_type": "code",
   "execution_count": null,
   "id": "891b933c",
   "metadata": {},
   "outputs": [],
   "source": [
    "#retrieving object type columns and their unique values. \n",
    "for col in df.describe(include='object').columns:\n",
    "    print(col)\n",
    "    print(df[col].unique())\n",
    "    print('_'*50)"
   ]
  },
  {
   "cell_type": "code",
   "execution_count": null,
   "id": "ae81aee6",
   "metadata": {},
   "outputs": [],
   "source": [
    "#checking missing values for each column\n",
    "df.isnull().sum()"
   ]
  },
  {
   "cell_type": "code",
   "execution_count": null,
   "id": "1e558aa2",
   "metadata": {},
   "outputs": [],
   "source": [
    "#removing columns with lot of missing values\n",
    "df.drop('company',axis=1,inplace=True)\n",
    "df.drop('agent',axis=1,inplace=True)"
   ]
  },
  {
   "cell_type": "code",
   "execution_count": null,
   "id": "83e597d3",
   "metadata": {},
   "outputs": [],
   "source": [
    "#now removing the null rows\n",
    "df.dropna(inplace=True)"
   ]
  },
  {
   "cell_type": "code",
   "execution_count": null,
   "id": "008f712d",
   "metadata": {},
   "outputs": [],
   "source": [
    "#Removing the outlier in adr column\n",
    "df=df[df['adr']<5000]"
   ]
  },
  {
   "cell_type": "markdown",
   "id": "d64c33c3",
   "metadata": {},
   "source": []
  },
  {
   "cell_type": "code",
   "execution_count": null,
   "id": "8b5c31e7",
   "metadata": {},
   "outputs": [],
   "source": [
    "canceled_percentage=df['is_canceled'].value_counts(normalize=True)\n",
    "print(canceled_percentage)\n",
    "\n",
    "plt.figure(figsize=(5,4))\n",
    "plt.title('Reservation status count')\n",
    "plt.bar(['Not canceled','Canceled'],df['is_canceled'].value_counts())\n",
    "plt.show()"
   ]
  },
  {
   "cell_type": "code",
   "execution_count": null,
   "id": "f0f4a9ab",
   "metadata": {},
   "outputs": [],
   "source": [
    "plt.figure(figsize=(8,4))\n",
    "sns.countplot(x='hotel',hue='is_canceled',data=df)\n",
    "plt.title('Reservation status on different hotels')\n",
    "plt.xlabel('hotel')\n",
    "plt.ylabel('Number of reservations')\n",
    "plt.legend(['not canceled','canceled'])\n",
    "plt.show()"
   ]
  }
 ],
 "metadata": {
  "kernelspec": {
   "display_name": "Python 3",
   "language": "python",
   "name": "python3"
  },
  "language_info": {
   "codemirror_mode": {
    "name": "ipython",
    "version": 3
   },
   "file_extension": ".py",
   "mimetype": "text/x-python",
   "name": "python",
   "nbconvert_exporter": "python",
   "pygments_lexer": "ipython3",
   "version": "3.13.0"
  }
 },
 "nbformat": 4,
 "nbformat_minor": 5
}
